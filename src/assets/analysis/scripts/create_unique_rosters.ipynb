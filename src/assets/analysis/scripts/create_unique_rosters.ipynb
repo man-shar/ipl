{
 "cells": [
  {
   "cell_type": "code",
   "execution_count": 9,
   "metadata": {
    "collapsed": true
   },
   "outputs": [],
   "source": [
    "import pandas as pd\n",
    "import json\n",
    "import datetime"
   ]
  },
  {
   "cell_type": "markdown",
   "metadata": {},
   "source": [
    "# Before doing this.\n",
    "add leading 0 to dates with single digit as day in rosters.json. for eg: 8 Mar 2005, change that to 08 Mar 2005"
   ]
  },
  {
   "cell_type": "code",
   "execution_count": 10,
   "metadata": {
    "collapsed": true
   },
   "outputs": [],
   "source": [
    "with open(\"rosters.json\", \"r\") as f:\n",
    "    rosters = json.loads(f.read())"
   ]
  },
  {
   "cell_type": "code",
   "execution_count": 11,
   "metadata": {
    "collapsed": true
   },
   "outputs": [],
   "source": [
    "dates = rosters.keys()\n",
    "\n",
    "for i, date in enumerate(dates):\n",
    "    dates[i] = datetime.datetime.strptime(date, \"%d %b %Y\")\n",
    "\n",
    "dates.sort()"
   ]
  },
  {
   "cell_type": "code",
   "execution_count": 12,
   "metadata": {},
   "outputs": [],
   "source": [
    "# returns true if this roster doesnt match previous one. a is current, b is previous roster.\n",
    "def checkUnique(a, b):\n",
    "    c = 0\n",
    "    for player in b:\n",
    "        try:\n",
    "            a.index(player)\n",
    "#             if player exists in previous match's roster, increase counter\n",
    "            c = c + 1\n",
    "        except:\n",
    "            continue\n",
    "#     if counter is 11 so all players exist in previous roster. return false.\n",
    "    if c == 11:\n",
    "        return False\n",
    "    return True\n",
    "\n",
    "unique_rosters = {}\n",
    "\n",
    "for i, date in enumerate(dates):\n",
    "    if i == 0:\n",
    "        continue\n",
    "    key = str(date.strftime('%d %b %Y'))\n",
    "    previous_key = str(dates[i- 1].strftime('%d %b %Y'))\n",
    "    isUnique = checkUnique(rosters[key][\"roster\"], rosters[previous_key][\"roster\"])\n",
    "    if isUnique:\n",
    "        unique_rosters[key] = rosters[key]"
   ]
  },
  {
   "cell_type": "code",
   "execution_count": 13,
   "metadata": {
    "collapsed": true
   },
   "outputs": [],
   "source": [
    "with open(\"unique_rosters.json\", \"w\") as f:\n",
    "    json.dump(unique_rosters, f, indent=2)"
   ]
  }
 ],
 "metadata": {
  "kernelspec": {
   "display_name": "Python 2",
   "language": "python",
   "name": "python2"
  },
  "language_info": {
   "codemirror_mode": {
    "name": "ipython",
    "version": 2
   },
   "file_extension": ".py",
   "mimetype": "text/x-python",
   "name": "python",
   "nbconvert_exporter": "python",
   "pygments_lexer": "ipython2",
   "version": "2.7.12"
  }
 },
 "nbformat": 4,
 "nbformat_minor": 2
}
